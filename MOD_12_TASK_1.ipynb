{
 "cells": [
  {
   "cell_type": "code",
   "execution_count": null,
   "metadata": {},
   "outputs": [],
   "source": []
  },
  {
   "cell_type": "markdown",
   "metadata": {},
   "source": [
    "Napisz swoimi słowami jak rozumiesz Supervised Learning, Unsupervised Learning oraz każdą z podgrup. Wymień po trzy przykładowe zastosowania dla każdej z nich. Dodaj krótki opis, dlaczego akurat dane zastosowanie jest przypisane do danej podgrupy.\n",
    "\n",
    "Przykładowa struktura:\n",
    "\n",
    "____________________\n",
    "Supervised Learning\n",
    "To rodzaj ML w którym ...\n",
    "Technika w której algorytm uczy sie na podstawie zestawu danych wejściowych i wyjściowych. Jego zadaniem jest znalezienie jak najskuteczniejszego powiązania zbiorów in and out\n",
    "\n",
    "Klasyfikacja\n",
    "Wykorzystanie SL w której algorytm ma za zadanie zaklasyfikować input jako nalezący do jakiegoś zbioru.\n",
    "Jest to ...\n",
    "\n",
    "przykład 1 - chiński utopijny mir, w którym oceniane są zachowania obywateli jako dobre / złe i wpływają na ich ranking społeczny\n",
    "przykład 2 - drony autonomicze - system rozpoznawania wróg/przyjaciel\n",
    "przykład 3 - maszyny rolne oceniające czy dana roślina nadaje się ju do zbioru, albo czy jest chwastem\n",
    "\n",
    "\n",
    "Regresja\n",
    "przedłzanie zbioru o nieistniejące wyniki, przewidywanie trendów w oparciu o istniejące dane\n",
    "Jest to ...\n",
    "\n",
    "przykład 1 - analiza klimatu i określanie przyszłych zmian (jak bardzo i szybko się upieczemy)\n",
    "przykład 2 - prognozowanie zuzycia elementów maszyn na podstawie charakterystyki uzytkowania\n",
    "przykład 3 - przewidywanie ilości konfliktów zbrojnych / zabawa w DoomsdayClock\n",
    "\n",
    "\n",
    "____________________\n",
    "Unsupervised Learning\n",
    "To rodzaj ML w którym ...\n",
    "Technika w której algorytm uczy się jedynie na podstawie danych wejściowych, nie znając poprawnego rozwiązania danego zagadnienia.\n",
    "\n",
    "Clustering\n",
    "Wykorzystanie UL w którym dane dzielone są na grupy. Odpowiednik Klasyfikacji, jednak bez załoonego podziału na grupy. Przydatny do opisywania i znajdywania trendów i zaleności.\n",
    "Jest to ...\n",
    "\n",
    "przykład 1 - CambridgeAnalytica??? zarządzanie opinią publiczną, wychwytywanie trendów i grup społecznych\n",
    "przykład 2 - poszukiwanie rozwiązań w skomplikowanych problemach, grupowanie (pozornie?) chaotycznych zbiorach danych\n",
    "przykład 3 - tendencje w roju/tłumie - optymalizacja kierowania ruchem drogowym/lotniczym\n",
    "\n",
    "Dimension Reduction\n",
    "upraszczanie skomplikowanych datasetów, wychwytywanie powiązanych danych/tendencji i redukowanie ilości rekordów\n",
    "Jest to ...\n",
    "\n",
    "przykład 1 - ułatwianie prezentacji i zrozumienia danych przez ludzi\n",
    "przykład 2 - zmniejszanie ilości cech w zestawach danych\n",
    "przykład 3 - zmniejszanie zapotrzebowania sprzętowego w analizie"
   ]
  },
  {
   "cell_type": "markdown",
   "metadata": {},
   "source": []
  }
 ],
 "metadata": {
  "language_info": {
   "name": "python"
  }
 },
 "nbformat": 4,
 "nbformat_minor": 2
}
